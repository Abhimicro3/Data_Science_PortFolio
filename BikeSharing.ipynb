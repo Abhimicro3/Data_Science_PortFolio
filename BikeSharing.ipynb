{
 "cells": [
  {
   "cell_type": "markdown",
   "metadata": {},
   "source": [
    "# Bike Sharing Demand\n",
    "\n",
    "\n",
    "## Overview\n",
    "Bike sharing systems are a means of renting bicycles where the process of obtaining membership, rental, and bike return is automated via a network of kiosk locations throughout a city. Using these systems, people are able rent a bike from a one location and return it to a different place on an as-needed basis. <br>\n"
   ]
  },
  {
   "cell_type": "markdown",
   "metadata": {},
   "source": [
    "## What are the Variables..?\n",
    "\n",
    "1. datetime - hourly date + timestamp  <br>\n",
    "2. season -  1 = spring, 2 = summer, 3 = fall, 4 = winter <br>\n",
    "3. holiday - whether the day is considered a holiday<br>\n",
    "4. workingday - whether the day is neither a weekend nor holiday<br>\n",
    "5. weather - 1: Clear, Few clouds, Partly cloudy, Partly cloudy <br>\n",
    "&nbsp;&nbsp;&nbsp;&nbsp;&nbsp;&nbsp;&nbsp;&nbsp;&nbsp;&nbsp;&nbsp;&nbsp;&nbsp;&nbsp;&nbsp;&nbsp;&nbsp;&nbsp;&nbsp;2: Mist + Cloudy, Mist + Broken clouds, Mist + Few clouds, Mist <br>\n",
    "&nbsp;&nbsp;&nbsp;&nbsp;&nbsp;&nbsp;&nbsp;&nbsp;&nbsp;&nbsp;&nbsp;&nbsp;&nbsp;&nbsp;&nbsp;&nbsp;&nbsp;&nbsp;&nbsp;3: Light Snow, Light Rain + Thunderstorm + Scattered clouds, Light Rain + Scattered clouds<br> \n",
    "&nbsp;&nbsp;&nbsp;&nbsp;&nbsp;&nbsp;&nbsp;&nbsp;&nbsp;&nbsp;&nbsp;&nbsp;&nbsp;&nbsp;&nbsp;&nbsp;&nbsp;&nbsp;&nbsp;4: Heavy Rain + Ice Pallets + Thunderstorm + Mist, Snow + Fog <br>\n",
    "6. temp - temperature in Celsius<br>\n",
    "7. atemp - \"feels like\" temperature in Celsius<br>\n",
    "8. humidity - relative humidity<br>\n",
    "9. windspeed - wind speed<br>\n",
    "10. casual - number of non-registered user rentals initiated<br>\n",
    "11. registered - number of registered user rentals initiated<br>\n",
    "12. count - number of total rentals<br>"
   ]
  },
  {
   "cell_type": "markdown",
   "metadata": {},
   "source": [
    "## Load The Libraries"
   ]
  },
  {
   "cell_type": "code",
   "execution_count": 3,
   "metadata": {
    "collapsed": true
   },
   "outputs": [],
   "source": [
    "import pandas as pd\n",
    "import matplotlib.pyplot as plt\n",
    "%matplotlib inline\n",
    "import seaborn as sns\n",
    "import numpy as np\n",
    "from datetime import datetime"
   ]
  },
  {
   "cell_type": "markdown",
   "metadata": {
    "collapsed": true
   },
   "source": [
    "## Get The Data"
   ]
  },
  {
   "cell_type": "code",
   "execution_count": 4,
   "metadata": {
    "collapsed": true
   },
   "outputs": [],
   "source": [
    "train=pd.read_csv('/home/abhi/Desktop/CSV/Bike Sharing/train.csv')\n",
    "test=pd.read_csv('/home/abhi/Desktop/CSV/Bike Sharing/test.csv')"
   ]
  },
  {
   "cell_type": "markdown",
   "metadata": {},
   "source": [
    "## Data Summary <br>\n",
    "In the first step we will do the following three things:<br><br>\n",
    "1.Get The shape of the data<br>\n",
    "2.Get The data sample<br>\n",
    "3.Getting the info about the data columns and missing values"
   ]
  },
  {
   "cell_type": "markdown",
   "metadata": {},
   "source": [
    "### Shape Of Data"
   ]
  },
  {
   "cell_type": "code",
   "execution_count": 6,
   "metadata": {},
   "outputs": [
    {
     "name": "stdout",
     "output_type": "stream",
     "text": [
      "('The Shape of Train is', (10886, 12))\n",
      "('The Shape of Test is', (6493, 9))\n"
     ]
    }
   ],
   "source": [
    "print('The Shape of Train is',train.shape)\n",
    "print('The Shape of Test is',test.shape)"
   ]
  },
  {
   "cell_type": "markdown",
   "metadata": {},
   "source": [
    "### Sample Of Data"
   ]
  },
  {
   "cell_type": "code",
   "execution_count": 6,
   "metadata": {},
   "outputs": [
    {
     "data": {
      "text/html": [
       "<div>\n",
       "<style>\n",
       "    .dataframe thead tr:only-child th {\n",
       "        text-align: right;\n",
       "    }\n",
       "\n",
       "    .dataframe thead th {\n",
       "        text-align: left;\n",
       "    }\n",
       "\n",
       "    .dataframe tbody tr th {\n",
       "        vertical-align: top;\n",
       "    }\n",
       "</style>\n",
       "<table border=\"1\" class=\"dataframe\">\n",
       "  <thead>\n",
       "    <tr style=\"text-align: right;\">\n",
       "      <th></th>\n",
       "      <th>datetime</th>\n",
       "      <th>season</th>\n",
       "      <th>holiday</th>\n",
       "      <th>workingday</th>\n",
       "      <th>weather</th>\n",
       "      <th>temp</th>\n",
       "      <th>atemp</th>\n",
       "      <th>humidity</th>\n",
       "      <th>windspeed</th>\n",
       "      <th>casual</th>\n",
       "      <th>registered</th>\n",
       "      <th>count</th>\n",
       "    </tr>\n",
       "  </thead>\n",
       "  <tbody>\n",
       "    <tr>\n",
       "      <th>0</th>\n",
       "      <td>2011-01-01 00:00:00</td>\n",
       "      <td>1</td>\n",
       "      <td>0</td>\n",
       "      <td>0</td>\n",
       "      <td>1</td>\n",
       "      <td>9.84</td>\n",
       "      <td>14.395</td>\n",
       "      <td>81</td>\n",
       "      <td>0.0</td>\n",
       "      <td>3</td>\n",
       "      <td>13</td>\n",
       "      <td>16</td>\n",
       "    </tr>\n",
       "    <tr>\n",
       "      <th>1</th>\n",
       "      <td>2011-01-01 01:00:00</td>\n",
       "      <td>1</td>\n",
       "      <td>0</td>\n",
       "      <td>0</td>\n",
       "      <td>1</td>\n",
       "      <td>9.02</td>\n",
       "      <td>13.635</td>\n",
       "      <td>80</td>\n",
       "      <td>0.0</td>\n",
       "      <td>8</td>\n",
       "      <td>32</td>\n",
       "      <td>40</td>\n",
       "    </tr>\n",
       "    <tr>\n",
       "      <th>2</th>\n",
       "      <td>2011-01-01 02:00:00</td>\n",
       "      <td>1</td>\n",
       "      <td>0</td>\n",
       "      <td>0</td>\n",
       "      <td>1</td>\n",
       "      <td>9.02</td>\n",
       "      <td>13.635</td>\n",
       "      <td>80</td>\n",
       "      <td>0.0</td>\n",
       "      <td>5</td>\n",
       "      <td>27</td>\n",
       "      <td>32</td>\n",
       "    </tr>\n",
       "    <tr>\n",
       "      <th>3</th>\n",
       "      <td>2011-01-01 03:00:00</td>\n",
       "      <td>1</td>\n",
       "      <td>0</td>\n",
       "      <td>0</td>\n",
       "      <td>1</td>\n",
       "      <td>9.84</td>\n",
       "      <td>14.395</td>\n",
       "      <td>75</td>\n",
       "      <td>0.0</td>\n",
       "      <td>3</td>\n",
       "      <td>10</td>\n",
       "      <td>13</td>\n",
       "    </tr>\n",
       "    <tr>\n",
       "      <th>4</th>\n",
       "      <td>2011-01-01 04:00:00</td>\n",
       "      <td>1</td>\n",
       "      <td>0</td>\n",
       "      <td>0</td>\n",
       "      <td>1</td>\n",
       "      <td>9.84</td>\n",
       "      <td>14.395</td>\n",
       "      <td>75</td>\n",
       "      <td>0.0</td>\n",
       "      <td>0</td>\n",
       "      <td>1</td>\n",
       "      <td>1</td>\n",
       "    </tr>\n",
       "  </tbody>\n",
       "</table>\n",
       "</div>"
      ],
      "text/plain": [
       "              datetime  season  holiday  workingday  weather  temp   atemp  \\\n",
       "0  2011-01-01 00:00:00       1        0           0        1  9.84  14.395   \n",
       "1  2011-01-01 01:00:00       1        0           0        1  9.02  13.635   \n",
       "2  2011-01-01 02:00:00       1        0           0        1  9.02  13.635   \n",
       "3  2011-01-01 03:00:00       1        0           0        1  9.84  14.395   \n",
       "4  2011-01-01 04:00:00       1        0           0        1  9.84  14.395   \n",
       "\n",
       "   humidity  windspeed  casual  registered  count  \n",
       "0        81        0.0       3          13     16  \n",
       "1        80        0.0       8          32     40  \n",
       "2        80        0.0       5          27     32  \n",
       "3        75        0.0       3          10     13  \n",
       "4        75        0.0       0           1      1  "
      ]
     },
     "execution_count": 6,
     "metadata": {},
     "output_type": "execute_result"
    }
   ],
   "source": [
    "train.head()"
   ]
  },
  {
   "cell_type": "code",
   "execution_count": 7,
   "metadata": {},
   "outputs": [
    {
     "data": {
      "text/html": [
       "<div>\n",
       "<style>\n",
       "    .dataframe thead tr:only-child th {\n",
       "        text-align: right;\n",
       "    }\n",
       "\n",
       "    .dataframe thead th {\n",
       "        text-align: left;\n",
       "    }\n",
       "\n",
       "    .dataframe tbody tr th {\n",
       "        vertical-align: top;\n",
       "    }\n",
       "</style>\n",
       "<table border=\"1\" class=\"dataframe\">\n",
       "  <thead>\n",
       "    <tr style=\"text-align: right;\">\n",
       "      <th></th>\n",
       "      <th>datetime</th>\n",
       "      <th>season</th>\n",
       "      <th>holiday</th>\n",
       "      <th>workingday</th>\n",
       "      <th>weather</th>\n",
       "      <th>temp</th>\n",
       "      <th>atemp</th>\n",
       "      <th>humidity</th>\n",
       "      <th>windspeed</th>\n",
       "    </tr>\n",
       "  </thead>\n",
       "  <tbody>\n",
       "    <tr>\n",
       "      <th>0</th>\n",
       "      <td>2011-01-20 00:00:00</td>\n",
       "      <td>1</td>\n",
       "      <td>0</td>\n",
       "      <td>1</td>\n",
       "      <td>1</td>\n",
       "      <td>10.66</td>\n",
       "      <td>11.365</td>\n",
       "      <td>56</td>\n",
       "      <td>26.0027</td>\n",
       "    </tr>\n",
       "    <tr>\n",
       "      <th>1</th>\n",
       "      <td>2011-01-20 01:00:00</td>\n",
       "      <td>1</td>\n",
       "      <td>0</td>\n",
       "      <td>1</td>\n",
       "      <td>1</td>\n",
       "      <td>10.66</td>\n",
       "      <td>13.635</td>\n",
       "      <td>56</td>\n",
       "      <td>0.0000</td>\n",
       "    </tr>\n",
       "    <tr>\n",
       "      <th>2</th>\n",
       "      <td>2011-01-20 02:00:00</td>\n",
       "      <td>1</td>\n",
       "      <td>0</td>\n",
       "      <td>1</td>\n",
       "      <td>1</td>\n",
       "      <td>10.66</td>\n",
       "      <td>13.635</td>\n",
       "      <td>56</td>\n",
       "      <td>0.0000</td>\n",
       "    </tr>\n",
       "    <tr>\n",
       "      <th>3</th>\n",
       "      <td>2011-01-20 03:00:00</td>\n",
       "      <td>1</td>\n",
       "      <td>0</td>\n",
       "      <td>1</td>\n",
       "      <td>1</td>\n",
       "      <td>10.66</td>\n",
       "      <td>12.880</td>\n",
       "      <td>56</td>\n",
       "      <td>11.0014</td>\n",
       "    </tr>\n",
       "    <tr>\n",
       "      <th>4</th>\n",
       "      <td>2011-01-20 04:00:00</td>\n",
       "      <td>1</td>\n",
       "      <td>0</td>\n",
       "      <td>1</td>\n",
       "      <td>1</td>\n",
       "      <td>10.66</td>\n",
       "      <td>12.880</td>\n",
       "      <td>56</td>\n",
       "      <td>11.0014</td>\n",
       "    </tr>\n",
       "  </tbody>\n",
       "</table>\n",
       "</div>"
      ],
      "text/plain": [
       "              datetime  season  holiday  workingday  weather   temp   atemp  \\\n",
       "0  2011-01-20 00:00:00       1        0           1        1  10.66  11.365   \n",
       "1  2011-01-20 01:00:00       1        0           1        1  10.66  13.635   \n",
       "2  2011-01-20 02:00:00       1        0           1        1  10.66  13.635   \n",
       "3  2011-01-20 03:00:00       1        0           1        1  10.66  12.880   \n",
       "4  2011-01-20 04:00:00       1        0           1        1  10.66  12.880   \n",
       "\n",
       "   humidity  windspeed  \n",
       "0        56    26.0027  \n",
       "1        56     0.0000  \n",
       "2        56     0.0000  \n",
       "3        56    11.0014  \n",
       "4        56    11.0014  "
      ]
     },
     "execution_count": 7,
     "metadata": {},
     "output_type": "execute_result"
    }
   ],
   "source": [
    "test.head()\n"
   ]
  },
  {
   "cell_type": "markdown",
   "metadata": {},
   "source": [
    "### Data Info"
   ]
  },
  {
   "cell_type": "code",
   "execution_count": 8,
   "metadata": {},
   "outputs": [
    {
     "name": "stdout",
     "output_type": "stream",
     "text": [
      "<class 'pandas.core.frame.DataFrame'>\n",
      "RangeIndex: 10886 entries, 0 to 10885\n",
      "Data columns (total 12 columns):\n",
      "datetime      10886 non-null object\n",
      "season        10886 non-null int64\n",
      "holiday       10886 non-null int64\n",
      "workingday    10886 non-null int64\n",
      "weather       10886 non-null int64\n",
      "temp          10886 non-null float64\n",
      "atemp         10886 non-null float64\n",
      "humidity      10886 non-null int64\n",
      "windspeed     10886 non-null float64\n",
      "casual        10886 non-null int64\n",
      "registered    10886 non-null int64\n",
      "count         10886 non-null int64\n",
      "dtypes: float64(3), int64(8), object(1)\n",
      "memory usage: 1020.6+ KB\n"
     ]
    }
   ],
   "source": [
    "train.info()"
   ]
  },
  {
   "cell_type": "markdown",
   "metadata": {},
   "source": [
    "## Check For Null Values"
   ]
  },
  {
   "cell_type": "code",
   "execution_count": 9,
   "metadata": {},
   "outputs": [
    {
     "data": {
      "text/plain": [
       "Index([], dtype='object')"
      ]
     },
     "execution_count": 9,
     "metadata": {},
     "output_type": "execute_result"
    }
   ],
   "source": [
    "train.columns[train.isnull().any()]"
   ]
  },
  {
   "cell_type": "code",
   "execution_count": 10,
   "metadata": {},
   "outputs": [
    {
     "data": {
      "text/plain": [
       "Index([], dtype='object')"
      ]
     },
     "execution_count": 10,
     "metadata": {},
     "output_type": "execute_result"
    }
   ],
   "source": [
    "test.columns[test.isnull().any()]"
   ]
  },
  {
   "cell_type": "markdown",
   "metadata": {},
   "source": [
    "No null value in the data.Good Thing.."
   ]
  },
  {
   "cell_type": "markdown",
   "metadata": {},
   "source": [
    "## Feature Engineering"
   ]
  },
  {
   "cell_type": "markdown",
   "metadata": {},
   "source": [
    "#### Before proceeding further we need to take care of few things like:<br>\n",
    "1.Append train and test data so that we can apply Feature engineering to them.<br>\n",
    "2.Create new features like year,month,hour from the datetime feature.<br>\n",
    "3.Detach the appended dataset to train and test<br>\n",
    "4.Drop the datetime feature as we have extracted usefull feature from it.<br>"
   ]
  },
  {
   "cell_type": "markdown",
   "metadata": {},
   "source": [
    "### Append The Data"
   ]
  },
  {
   "cell_type": "code",
   "execution_count": 11,
   "metadata": {
    "collapsed": true
   },
   "outputs": [],
   "source": [
    "alldata=train.append(test)"
   ]
  },
  {
   "cell_type": "markdown",
   "metadata": {},
   "source": [
    "### Create New Features"
   ]
  },
  {
   "cell_type": "code",
   "execution_count": 12,
   "metadata": {
    "collapsed": true
   },
   "outputs": [],
   "source": [
    "year=lambda x:datetime.strptime(x,'%Y-%m-%d %H:%M:%S').year\n",
    "month=lambda x:datetime.strptime(x,'%Y-%m-%d %H:%M:%S').month\n",
    "hour=lambda x:datetime.strptime(x,'%Y-%m-%d %H:%M:%S').hour"
   ]
  },
  {
   "cell_type": "code",
   "execution_count": 13,
   "metadata": {
    "collapsed": true
   },
   "outputs": [],
   "source": [
    "alldata['Year']=alldata['datetime'].map(year)\n",
    "alldata['Month']=alldata['datetime'].map(month)\n",
    "alldata['Hour']=alldata['datetime'].map(hour)"
   ]
  },
  {
   "cell_type": "code",
   "execution_count": 14,
   "metadata": {},
   "outputs": [
    {
     "data": {
      "text/html": [
       "<div>\n",
       "<style>\n",
       "    .dataframe thead tr:only-child th {\n",
       "        text-align: right;\n",
       "    }\n",
       "\n",
       "    .dataframe thead th {\n",
       "        text-align: left;\n",
       "    }\n",
       "\n",
       "    .dataframe tbody tr th {\n",
       "        vertical-align: top;\n",
       "    }\n",
       "</style>\n",
       "<table border=\"1\" class=\"dataframe\">\n",
       "  <thead>\n",
       "    <tr style=\"text-align: right;\">\n",
       "      <th></th>\n",
       "      <th>atemp</th>\n",
       "      <th>casual</th>\n",
       "      <th>count</th>\n",
       "      <th>datetime</th>\n",
       "      <th>holiday</th>\n",
       "      <th>humidity</th>\n",
       "      <th>registered</th>\n",
       "      <th>season</th>\n",
       "      <th>temp</th>\n",
       "      <th>weather</th>\n",
       "      <th>windspeed</th>\n",
       "      <th>workingday</th>\n",
       "      <th>Year</th>\n",
       "      <th>Month</th>\n",
       "      <th>Hour</th>\n",
       "    </tr>\n",
       "  </thead>\n",
       "  <tbody>\n",
       "    <tr>\n",
       "      <th>0</th>\n",
       "      <td>14.395</td>\n",
       "      <td>3.0</td>\n",
       "      <td>16.0</td>\n",
       "      <td>2011-01-01 00:00:00</td>\n",
       "      <td>0</td>\n",
       "      <td>81</td>\n",
       "      <td>13.0</td>\n",
       "      <td>1</td>\n",
       "      <td>9.84</td>\n",
       "      <td>1</td>\n",
       "      <td>0.0</td>\n",
       "      <td>0</td>\n",
       "      <td>2011</td>\n",
       "      <td>1</td>\n",
       "      <td>0</td>\n",
       "    </tr>\n",
       "    <tr>\n",
       "      <th>1</th>\n",
       "      <td>13.635</td>\n",
       "      <td>8.0</td>\n",
       "      <td>40.0</td>\n",
       "      <td>2011-01-01 01:00:00</td>\n",
       "      <td>0</td>\n",
       "      <td>80</td>\n",
       "      <td>32.0</td>\n",
       "      <td>1</td>\n",
       "      <td>9.02</td>\n",
       "      <td>1</td>\n",
       "      <td>0.0</td>\n",
       "      <td>0</td>\n",
       "      <td>2011</td>\n",
       "      <td>1</td>\n",
       "      <td>1</td>\n",
       "    </tr>\n",
       "    <tr>\n",
       "      <th>2</th>\n",
       "      <td>13.635</td>\n",
       "      <td>5.0</td>\n",
       "      <td>32.0</td>\n",
       "      <td>2011-01-01 02:00:00</td>\n",
       "      <td>0</td>\n",
       "      <td>80</td>\n",
       "      <td>27.0</td>\n",
       "      <td>1</td>\n",
       "      <td>9.02</td>\n",
       "      <td>1</td>\n",
       "      <td>0.0</td>\n",
       "      <td>0</td>\n",
       "      <td>2011</td>\n",
       "      <td>1</td>\n",
       "      <td>2</td>\n",
       "    </tr>\n",
       "    <tr>\n",
       "      <th>3</th>\n",
       "      <td>14.395</td>\n",
       "      <td>3.0</td>\n",
       "      <td>13.0</td>\n",
       "      <td>2011-01-01 03:00:00</td>\n",
       "      <td>0</td>\n",
       "      <td>75</td>\n",
       "      <td>10.0</td>\n",
       "      <td>1</td>\n",
       "      <td>9.84</td>\n",
       "      <td>1</td>\n",
       "      <td>0.0</td>\n",
       "      <td>0</td>\n",
       "      <td>2011</td>\n",
       "      <td>1</td>\n",
       "      <td>3</td>\n",
       "    </tr>\n",
       "    <tr>\n",
       "      <th>4</th>\n",
       "      <td>14.395</td>\n",
       "      <td>0.0</td>\n",
       "      <td>1.0</td>\n",
       "      <td>2011-01-01 04:00:00</td>\n",
       "      <td>0</td>\n",
       "      <td>75</td>\n",
       "      <td>1.0</td>\n",
       "      <td>1</td>\n",
       "      <td>9.84</td>\n",
       "      <td>1</td>\n",
       "      <td>0.0</td>\n",
       "      <td>0</td>\n",
       "      <td>2011</td>\n",
       "      <td>1</td>\n",
       "      <td>4</td>\n",
       "    </tr>\n",
       "  </tbody>\n",
       "</table>\n",
       "</div>"
      ],
      "text/plain": [
       "    atemp  casual  count             datetime  holiday  humidity  registered  \\\n",
       "0  14.395     3.0   16.0  2011-01-01 00:00:00        0        81        13.0   \n",
       "1  13.635     8.0   40.0  2011-01-01 01:00:00        0        80        32.0   \n",
       "2  13.635     5.0   32.0  2011-01-01 02:00:00        0        80        27.0   \n",
       "3  14.395     3.0   13.0  2011-01-01 03:00:00        0        75        10.0   \n",
       "4  14.395     0.0    1.0  2011-01-01 04:00:00        0        75         1.0   \n",
       "\n",
       "   season  temp  weather  windspeed  workingday  Year  Month  Hour  \n",
       "0       1  9.84        1        0.0           0  2011      1     0  \n",
       "1       1  9.02        1        0.0           0  2011      1     1  \n",
       "2       1  9.02        1        0.0           0  2011      1     2  \n",
       "3       1  9.84        1        0.0           0  2011      1     3  \n",
       "4       1  9.84        1        0.0           0  2011      1     4  "
      ]
     },
     "execution_count": 14,
     "metadata": {},
     "output_type": "execute_result"
    }
   ],
   "source": [
    "alldata.head()"
   ]
  },
  {
   "cell_type": "markdown",
   "metadata": {},
   "source": [
    "### Detach the Combined Data"
   ]
  },
  {
   "cell_type": "code",
   "execution_count": 15,
   "metadata": {
    "collapsed": true
   },
   "outputs": [],
   "source": [
    "train_new=alldata[alldata['count'].notnull()]\n",
    "test_new=alldata[alldata['count'].isnull()]"
   ]
  },
  {
   "cell_type": "code",
   "execution_count": 16,
   "metadata": {
    "collapsed": true
   },
   "outputs": [],
   "source": [
    "test_new=test_new.drop(['casual','count','registered'],axis=1)"
   ]
  },
  {
   "cell_type": "markdown",
   "metadata": {},
   "source": [
    "### Drop The datatime Feature"
   ]
  },
  {
   "cell_type": "code",
   "execution_count": 8,
   "metadata": {
    "collapsed": true
   },
   "outputs": [],
   "source": [
    "train.drop(['datetime'],axis=1,inplace=True)\n",
    "test.drop(['datetime'],axis=1,inplace=True)"
   ]
  },
  {
   "cell_type": "markdown",
   "metadata": {},
   "source": [
    "## Visualization"
   ]
  },
  {
   "cell_type": "code",
   "execution_count": 19,
   "metadata": {},
   "outputs": [
    {
     "data": {
      "text/plain": [
       "<matplotlib.axes._subplots.AxesSubplot at 0x7f821c2b04d0>"
      ]
     },
     "execution_count": 19,
     "metadata": {},
     "output_type": "execute_result"
    },
    {
     "data": {
      "image/png": "[encoded data removed]",
      "text/plain": [
       "<matplotlib.figure.Figure at 0x7f821f2d6990>"
      ]
     },
     "metadata": {},
     "output_type": "display_data"
    }
   ],
   "source": [
    "fig=plt.figure(figsize=(10,6))\n",
    "\n",
    "\n",
    "plt.subplot(2,5,1)\n",
    "#holiday\n",
    "sns.distplot(train_new['holiday'])\n",
    "\n",
    "plt.subplot(2,5,2)\n",
    "#hhumidity\n",
    "sns.distplot(train_new['humidity'])\n",
    "\n",
    "plt.subplot(2,5,3)\n",
    "#season\n",
    "sns.distplot(train_new['season'])\n",
    "\n",
    "plt.subplot(2,5,4)\n",
    "#temp\n",
    "sns.distplot(train_new['temp'])\n",
    "\n",
    "plt.subplot(2,5,5)\n",
    "#weather\n",
    "sns.distplot(train_new['weather'])\n",
    "\n",
    "plt.subplot(2,5,6)\n",
    "#windspeed\n",
    "sns.distplot(train_new['windspeed'])\n",
    "\n",
    "plt.subplot(2,5,7)\n",
    "#workingday\n",
    "sns.distplot(train_new['workingday'])\n",
    "\n",
    "plt.subplot(2,5,8)\n",
    "#year\n",
    "sns.distplot(train_new['Year'])\n",
    "\n",
    "plt.subplot(2,5,9)\n",
    "#Month\n",
    "sns.distplot(train_new['Month'])\n",
    "\n",
    "plt.subplot(2,5,10)\n",
    "#Hour\n",
    "sns.distplot(train_new['Hour'])"
   ]
  },
  {
   "cell_type": "code",
   "execution_count": 21,
   "metadata": {
    "collapsed": true
   },
   "outputs": [],
   "source": [
    "num=train_new.select_dtypes(include=[np.number])"
   ]
  },
  {
   "cell_type": "code",
   "execution_count": 22,
   "metadata": {},
   "outputs": [
    {
     "name": "stdout",
     "output_type": "stream",
     "text": [
      "31.060    671\n",
      "25.760    423\n",
      "22.725    406\n",
      "20.455    400\n",
      "26.515    395\n",
      "16.665    381\n",
      "25.000    365\n",
      "33.335    364\n",
      "21.210    356\n",
      "30.305    350\n",
      "15.150    338\n",
      "21.970    328\n",
      "24.240    327\n",
      "17.425    314\n",
      "31.820    299\n",
      "34.850    283\n",
      "27.275    282\n",
      "32.575    272\n",
      "11.365    271\n",
      "14.395    269\n",
      "29.545    257\n",
      "19.695    255\n",
      "15.910    254\n",
      "12.880    247\n",
      "13.635    237\n",
      "34.090    224\n",
      "12.120    195\n",
      "28.790    175\n",
      "23.485    170\n",
      "10.605    166\n",
      "35.605    159\n",
      "9.850     127\n",
      "18.180    123\n",
      "36.365    123\n",
      "37.120    118\n",
      "9.090     107\n",
      "37.880     97\n",
      "28.030     80\n",
      "7.575      75\n",
      "38.635     74\n",
      "6.060      73\n",
      "39.395     67\n",
      "6.820      63\n",
      "8.335      63\n",
      "18.940     45\n",
      "40.150     45\n",
      "40.910     39\n",
      "5.305      25\n",
      "42.425     24\n",
      "41.665     23\n",
      "3.790      16\n",
      "4.545      11\n",
      "43.940      7\n",
      "43.180      7\n",
      "2.275       7\n",
      "3.030       7\n",
      "44.695      3\n",
      "0.760       2\n",
      "1.515       1\n",
      "45.455      1\n",
      "Name: atemp, dtype: int64\n",
      "0.0      986\n",
      "1.0      667\n",
      "2.0      487\n",
      "3.0      438\n",
      "4.0      354\n",
      "5.0      332\n",
      "6.0      269\n",
      "8.0      250\n",
      "7.0      250\n",
      "9.0      230\n",
      "10.0     213\n",
      "11.0     193\n",
      "12.0     190\n",
      "13.0     146\n",
      "15.0     146\n",
      "16.0     141\n",
      "19.0     141\n",
      "14.0     137\n",
      "17.0     134\n",
      "18.0     128\n",
      "27.0     124\n",
      "20.0     120\n",
      "21.0     116\n",
      "28.0     105\n",
      "31.0     105\n",
      "22.0     104\n",
      "25.0     103\n",
      "33.0     100\n",
      "29.0      99\n",
      "24.0      95\n",
      "        ... \n",
      "308.0      1\n",
      "241.0      1\n",
      "259.0      1\n",
      "264.0      1\n",
      "245.0      1\n",
      "304.0      1\n",
      "265.0      1\n",
      "292.0      1\n",
      "291.0      1\n",
      "247.0      1\n",
      "210.0      1\n",
      "298.0      1\n",
      "284.0      1\n",
      "350.0      1\n",
      "234.0      1\n",
      "299.0      1\n",
      "294.0      1\n",
      "325.0      1\n",
      "246.0      1\n",
      "327.0      1\n",
      "321.0      1\n",
      "282.0      1\n",
      "239.0      1\n",
      "326.0      1\n",
      "289.0      1\n",
      "357.0      1\n",
      "317.0      1\n",
      "202.0      1\n",
      "230.0      1\n",
      "263.0      1\n",
      "Name: casual, Length: 309, dtype: int64\n",
      "5.0      169\n",
      "4.0      149\n",
      "3.0      144\n",
      "6.0      135\n",
      "2.0      132\n",
      "7.0      118\n",
      "1.0      105\n",
      "8.0       99\n",
      "10.0      95\n",
      "11.0      95\n",
      "9.0       83\n",
      "12.0      76\n",
      "16.0      73\n",
      "14.0      66\n",
      "13.0      65\n",
      "20.0      61\n",
      "17.0      58\n",
      "15.0      57\n",
      "28.0      54\n",
      "21.0      54\n",
      "23.0      53\n",
      "26.0      48\n",
      "24.0      44\n",
      "31.0      43\n",
      "64.0      43\n",
      "18.0      42\n",
      "25.0      42\n",
      "33.0      41\n",
      "35.0      39\n",
      "27.0      39\n",
      "        ... \n",
      "624.0      1\n",
      "532.0      1\n",
      "636.0      1\n",
      "871.0      1\n",
      "629.0      1\n",
      "843.0      1\n",
      "655.0      1\n",
      "775.0      1\n",
      "943.0      1\n",
      "873.0      1\n",
      "832.0      1\n",
      "519.0      1\n",
      "606.0      1\n",
      "844.0      1\n",
      "750.0      1\n",
      "849.0      1\n",
      "867.0      1\n",
      "825.0      1\n",
      "779.0      1\n",
      "625.0      1\n",
      "639.0      1\n",
      "777.0      1\n",
      "767.0      1\n",
      "781.0      1\n",
      "748.0      1\n",
      "612.0      1\n",
      "892.0      1\n",
      "658.0      1\n",
      "755.0      1\n",
      "925.0      1\n",
      "Name: count, Length: 822, dtype: int64\n",
      "0    10575\n",
      "1      311\n",
      "Name: holiday, dtype: int64\n",
      "88    368\n",
      "94    324\n",
      "83    316\n",
      "87    289\n",
      "70    259\n",
      "65    253\n",
      "46    247\n",
      "66    246\n",
      "77    244\n",
      "49    234\n",
      "55    224\n",
      "52    218\n",
      "56    208\n",
      "69    207\n",
      "93    205\n",
      "61    205\n",
      "62    202\n",
      "82    200\n",
      "74    197\n",
      "73    195\n",
      "43    193\n",
      "78    192\n",
      "50    190\n",
      "53    186\n",
      "41    184\n",
      "59    178\n",
      "81    174\n",
      "58    168\n",
      "40    167\n",
      "54    164\n",
      "     ... \n",
      "32     64\n",
      "28     61\n",
      "80     60\n",
      "30     60\n",
      "27     49\n",
      "86     40\n",
      "26     39\n",
      "23     37\n",
      "24     37\n",
      "25     32\n",
      "0      22\n",
      "22     18\n",
      "21     16\n",
      "19     15\n",
      "20     10\n",
      "16      8\n",
      "18      7\n",
      "17      6\n",
      "90      4\n",
      "15      4\n",
      "85      4\n",
      "92      2\n",
      "14      2\n",
      "8       1\n",
      "97      1\n",
      "13      1\n",
      "10      1\n",
      "12      1\n",
      "96      1\n",
      "91      1\n",
      "Name: humidity, Length: 89, dtype: int64\n",
      "3.0      195\n",
      "4.0      190\n",
      "5.0      177\n",
      "6.0      155\n",
      "2.0      150\n",
      "1.0      135\n",
      "7.0      126\n",
      "9.0      114\n",
      "8.0      114\n",
      "11.0      87\n",
      "10.0      72\n",
      "14.0      67\n",
      "19.0      66\n",
      "23.0      61\n",
      "22.0      59\n",
      "12.0      57\n",
      "16.0      56\n",
      "15.0      54\n",
      "20.0      53\n",
      "13.0      52\n",
      "21.0      52\n",
      "24.0      51\n",
      "18.0      51\n",
      "30.0      49\n",
      "95.0      48\n",
      "26.0      47\n",
      "28.0      46\n",
      "17.0      46\n",
      "48.0      45\n",
      "43.0      44\n",
      "        ... \n",
      "621.0      1\n",
      "477.0      1\n",
      "718.0      1\n",
      "420.0      1\n",
      "566.0      1\n",
      "502.0      1\n",
      "794.0      1\n",
      "521.0      1\n",
      "742.0      1\n",
      "775.0      1\n",
      "782.0      1\n",
      "555.0      1\n",
      "802.0      1\n",
      "803.0      1\n",
      "492.0      1\n",
      "626.0      1\n",
      "739.0      1\n",
      "761.0      1\n",
      "650.0      1\n",
      "779.0      1\n",
      "680.0      1\n",
      "639.0      1\n",
      "667.0      1\n",
      "786.0      1\n",
      "558.0      1\n",
      "709.0      1\n",
      "552.0      1\n",
      "614.0      1\n",
      "811.0      1\n",
      "610.0      1\n",
      "Name: registered, Length: 731, dtype: int64\n",
      "4    2734\n",
      "3    2733\n",
      "2    2733\n",
      "1    2686\n",
      "Name: season, dtype: int64\n",
      "14.76    467\n",
      "26.24    453\n",
      "28.70    427\n",
      "13.94    413\n",
      "18.86    406\n",
      "22.14    403\n",
      "25.42    403\n",
      "16.40    400\n",
      "22.96    395\n",
      "27.06    394\n",
      "24.60    390\n",
      "12.30    385\n",
      "21.32    362\n",
      "13.12    356\n",
      "17.22    356\n",
      "29.52    353\n",
      "10.66    332\n",
      "18.04    328\n",
      "20.50    327\n",
      "30.34    299\n",
      "9.84     294\n",
      "15.58    255\n",
      "9.02     248\n",
      "31.16    242\n",
      "8.20     229\n",
      "27.88    224\n",
      "23.78    203\n",
      "32.80    202\n",
      "11.48    181\n",
      "19.68    170\n",
      "6.56     146\n",
      "33.62    130\n",
      "5.74     107\n",
      "7.38     106\n",
      "31.98     98\n",
      "34.44     80\n",
      "35.26     76\n",
      "4.92      60\n",
      "36.90     46\n",
      "4.10      44\n",
      "37.72     34\n",
      "36.08     23\n",
      "3.28      11\n",
      "38.54      7\n",
      "0.82       7\n",
      "39.36      6\n",
      "2.46       5\n",
      "1.64       2\n",
      "41.00      1\n",
      "Name: temp, dtype: int64\n",
      "1    7192\n",
      "2    2834\n",
      "3     859\n",
      "4       1\n",
      "Name: weather, dtype: int64\n",
      "0.0000     1313\n",
      "8.9981     1120\n",
      "11.0014    1057\n",
      "12.9980    1042\n",
      "7.0015     1034\n",
      "15.0013     961\n",
      "6.0032      872\n",
      "16.9979     824\n",
      "19.0012     676\n",
      "19.9995     492\n",
      "22.0028     372\n",
      "23.9994     274\n",
      "26.0027     235\n",
      "27.9993     187\n",
      "30.0026     111\n",
      "31.0009      89\n",
      "32.9975      80\n",
      "35.0008      58\n",
      "39.0007      27\n",
      "36.9974      22\n",
      "43.0006      12\n",
      "40.9973      11\n",
      "43.9989       8\n",
      "46.0022       3\n",
      "56.9969       2\n",
      "47.9988       2\n",
      "50.0021       1\n",
      "51.9987       1\n",
      "Name: windspeed, dtype: int64\n",
      "1    7412\n",
      "0    3474\n",
      "Name: workingday, dtype: int64\n",
      "2012    5464\n",
      "2011    5422\n",
      "Name: Year, dtype: int64\n",
      "7     912\n",
      "6     912\n",
      "5     912\n",
      "12    912\n",
      "8     912\n",
      "11    911\n",
      "10    911\n",
      "4     909\n",
      "9     909\n",
      "3     901\n",
      "2     901\n",
      "1     884\n",
      "Name: Month, dtype: int64\n",
      "23    456\n",
      "20    456\n",
      "16    456\n",
      "17    456\n",
      "18    456\n",
      "15    456\n",
      "12    456\n",
      "19    456\n",
      "13    456\n",
      "21    456\n",
      "14    456\n",
      "22    456\n",
      "6     455\n",
      "11    455\n",
      "10    455\n",
      "9     455\n",
      "7     455\n",
      "8     455\n",
      "0     455\n",
      "1     454\n",
      "5     452\n",
      "2     448\n",
      "4     442\n",
      "3     433\n",
      "Name: Hour, dtype: int64\n"
     ]
    }
   ],
   "source": [
    "feature=(x for x in num.columns)\n",
    "for i in feature:\n",
    "    print train_new[i].value_counts()"
   ]
  },
  {
   "cell_type": "code",
   "execution_count": 23,
   "metadata": {},
   "outputs": [
    {
     "data": {
      "text/plain": [
       "<seaborn.axisgrid.JointGrid at 0x7f821f34b9d0>"
      ]
     },
     "execution_count": 23,
     "metadata": {},
     "output_type": "execute_result"
    },
    {
     "data": {
      "image/png": "[encoded data removed]",
      "text/plain": [
       "<matplotlib.figure.Figure at 0x7f821f34ba10>"
      ]
     },
     "metadata": {},
     "output_type": "display_data"
    }
   ],
   "source": [
    "sns.jointplot(x='Hour',y='count',data=train_new)"
   ]
  },
  {
   "cell_type": "markdown",
   "metadata": {},
   "source": [
    "More People tends to ride the bike in the evening which explains the spike in the graph."
   ]
  },
  {
   "cell_type": "code",
   "execution_count": 24,
   "metadata": {},
   "outputs": [
    {
     "data": {
      "text/plain": [
       "<seaborn.axisgrid.JointGrid at 0x7f821f34ba50>"
      ]
     },
     "execution_count": 24,
     "metadata": {},
     "output_type": "execute_result"
    },
    {
     "data": {
      "image/png": "[encoded data removed]",
      "text/plain": [
       "<matplotlib.figure.Figure at 0x7f821f34ba90>"
      ]
     },
     "metadata": {},
     "output_type": "display_data"
    }
   ],
   "source": [
    "sns.jointplot(x='windspeed',y='count',data=train_new)"
   ]
  },
  {
   "cell_type": "markdown",
   "metadata": {},
   "source": [
    "More people tends to ride the bike when wind speed is very less."
   ]
  },
  {
   "cell_type": "code",
   "execution_count": 25,
   "metadata": {},
   "outputs": [
    {
     "data": {
      "text/plain": [
       "<seaborn.axisgrid.JointGrid at 0x7f821f34bbd0>"
      ]
     },
     "execution_count": 25,
     "metadata": {},
     "output_type": "execute_result"
    },
    {
     "data": {
      "image/png": "[encoded data removed]",
      "text/plain": [
       "<matplotlib.figure.Figure at 0x7f821f34b1d0>"
      ]
     },
     "metadata": {},
     "output_type": "display_data"
    }
   ],
   "source": [
    "sns.jointplot(x='temp',y='registered',data=train)"
   ]
  },
  {
   "cell_type": "code",
   "execution_count": 26,
   "metadata": {},
   "outputs": [
    {
     "data": {
      "text/plain": [
       "<seaborn.axisgrid.JointGrid at 0x7f821b4b4410>"
      ]
     },
     "execution_count": 26,
     "metadata": {},
     "output_type": "execute_result"
    },
    {
     "data": {
      "image/png": "[encoded data removed]",
      "text/plain": [
       "<matplotlib.figure.Figure at 0x7f821b4b4250>"
      ]
     },
     "metadata": {},
     "output_type": "display_data"
    }
   ],
   "source": [
    "sns.jointplot(x='temp',y='casual',data=train)"
   ]
  },
  {
   "cell_type": "code",
   "execution_count": 27,
   "metadata": {},
   "outputs": [
    {
     "data": {
      "text/plain": [
       "<seaborn.axisgrid.JointGrid at 0x7f821bc09750>"
      ]
     },
     "execution_count": 27,
     "metadata": {},
     "output_type": "execute_result"
    },
    {
     "data": {
      "image/png": "[encoded data removed]",
      "text/plain": [
       "<matplotlib.figure.Figure at 0x7f821ba98710>"
      ]
     },
     "metadata": {},
     "output_type": "display_data"
    }
   ],
   "source": [
    "sns.jointplot(x='atemp',y='casual',data=train)"
   ]
  },
  {
   "cell_type": "code",
   "execution_count": 28,
   "metadata": {},
   "outputs": [
    {
     "data": {
      "text/plain": [
       "<seaborn.axisgrid.JointGrid at 0x7f821accf6d0>"
      ]
     },
     "execution_count": 28,
     "metadata": {},
     "output_type": "execute_result"
    },
    {
     "data": {
      "image/png": "[encoded data removed]",
      "text/plain": [
       "<matplotlib.figure.Figure at 0x7f821acfeed0>"
      ]
     },
     "metadata": {},
     "output_type": "display_data"
    }
   ],
   "source": [
    "sns.jointplot(x='temp',y='registered',data=train)"
   ]
  },
  {
   "cell_type": "code",
   "execution_count": 29,
   "metadata": {},
   "outputs": [
    {
     "data": {
      "text/plain": [
       "<matplotlib.axes._subplots.AxesSubplot at 0x7f821aa91550>"
      ]
     },
     "execution_count": 29,
     "metadata": {},
     "output_type": "execute_result"
    },
    {
     "data": {
      "image/png": "[encoded data removed]",
      "text/plain": [
       "<matplotlib.figure.Figure at 0x7f821a8cfa50>"
      ]
     },
     "metadata": {},
     "output_type": "display_data"
    }
   ],
   "source": [
    "pivot=train.pivot_table(index='season',values='registered',aggfunc=np.median)\n",
    "pivot.plot(kind='bar')"
   ]
  },
  {
   "cell_type": "code",
   "execution_count": 30,
   "metadata": {},
   "outputs": [
    {
     "data": {
      "text/plain": [
       "<matplotlib.axes._subplots.AxesSubplot at 0x7f821a7d1110>"
      ]
     },
     "execution_count": 30,
     "metadata": {},
     "output_type": "execute_result"
    },
    {
     "data": {
      "image/png": "[encoded data removed]",
      "text/plain": [
       "<matplotlib.figure.Figure at 0x7f821b0cf2d0>"
      ]
     },
     "metadata": {},
     "output_type": "display_data"
    }
   ],
   "source": [
    "sns.boxplot(x='season',y='registered',data=train)"
   ]
  },
  {
   "cell_type": "code",
   "execution_count": 31,
   "metadata": {},
   "outputs": [
    {
     "data": {
      "text/plain": [
       "<matplotlib.axes._subplots.AxesSubplot at 0x7f821a6f0150>"
      ]
     },
     "execution_count": 31,
     "metadata": {},
     "output_type": "execute_result"
    },
    {
     "data": {
      "image/png": "[encoded data removed]",
      "text/plain": [
       "<matplotlib.figure.Figure at 0x7f821a8daf90>"
      ]
     },
     "metadata": {},
     "output_type": "display_data"
    }
   ],
   "source": [
    "sns.boxplot(x='season',y='casual',data=train)"
   ]
  },
  {
   "cell_type": "code",
   "execution_count": 32,
   "metadata": {},
   "outputs": [
    {
     "data": {
      "text/plain": [
       "<matplotlib.axes._subplots.AxesSubplot at 0x7f821a5c0e90>"
      ]
     },
     "execution_count": 32,
     "metadata": {},
     "output_type": "execute_result"
    },
    {
     "data": {
      "image/png": "[encoded data removed]",
      "text/plain": [
       "<matplotlib.figure.Figure at 0x7f821a68fad0>"
      ]
     },
     "metadata": {},
     "output_type": "display_data"
    }
   ],
   "source": [
    "sns.boxplot(x='season',y='count',data=train)"
   ]
  },
  {
   "cell_type": "code",
   "execution_count": 33,
   "metadata": {},
   "outputs": [
    {
     "data": {
      "text/plain": [
       "<matplotlib.axes._subplots.AxesSubplot at 0x7f821b06b310>"
      ]
     },
     "execution_count": 33,
     "metadata": {},
     "output_type": "execute_result"
    },
    {
     "data": {
      "image/png": "[encoded data removed]",
      "text/plain": [
       "<matplotlib.figure.Figure at 0x7f821a478ed0>"
      ]
     },
     "metadata": {},
     "output_type": "display_data"
    }
   ],
   "source": [
    "pivot=train.pivot_table(index='season',values='casual',aggfunc=np.median)\n",
    "pivot.plot(kind='bar')"
   ]
  },
  {
   "cell_type": "code",
   "execution_count": 34,
   "metadata": {},
   "outputs": [
    {
     "data": {
      "text/plain": [
       "<matplotlib.axes._subplots.AxesSubplot at 0x7f821a3be790>"
      ]
     },
     "execution_count": 34,
     "metadata": {},
     "output_type": "execute_result"
    },
    {
     "data": {
      "image/png": "[encoded data removed]",
      "text/plain": [
       "<matplotlib.figure.Figure at 0x7f821a35ac90>"
      ]
     },
     "metadata": {},
     "output_type": "display_data"
    }
   ],
   "source": [
    "pivot=train.pivot_table(index='season',values='count',aggfunc=np.mean)\n",
    "pivot.plot(kind='bar')"
   ]
  },
  {
   "cell_type": "code",
   "execution_count": 35,
   "metadata": {},
   "outputs": [
    {
     "data": {
      "text/plain": [
       "<matplotlib.axes._subplots.AxesSubplot at 0x7f821a350850>"
      ]
     },
     "execution_count": 35,
     "metadata": {},
     "output_type": "execute_result"
    },
    {
     "data": {
      "image/png": "[encoded data removed]",
      "text/plain": [
       "<matplotlib.figure.Figure at 0x7f821a35a390>"
      ]
     },
     "metadata": {},
     "output_type": "display_data"
    }
   ],
   "source": [
    "pivot=train.pivot_table(index='weather',values='registered',aggfunc=np.mean)\n",
    "pivot.plot(kind='bar')"
   ]
  },
  {
   "cell_type": "code",
   "execution_count": 36,
   "metadata": {},
   "outputs": [
    {
     "data": {
      "text/plain": [
       "<matplotlib.axes._subplots.AxesSubplot at 0x7f821a1ef7d0>"
      ]
     },
     "execution_count": 36,
     "metadata": {},
     "output_type": "execute_result"
    },
    {
     "data": {
      "image/png": "[encoded data removed]",
      "text/plain": [
       "<matplotlib.figure.Figure at 0x7f821a295690>"
      ]
     },
     "metadata": {},
     "output_type": "display_data"
    }
   ],
   "source": [
    "pivot=train.pivot_table(index='weather',values='casual',aggfunc=np.mean)\n",
    "pivot.plot(kind='bar')"
   ]
  },
  {
   "cell_type": "code",
   "execution_count": 37,
   "metadata": {},
   "outputs": [
    {
     "data": {
      "text/plain": [
       "<matplotlib.axes._subplots.AxesSubplot at 0x7f821a145e50>"
      ]
     },
     "execution_count": 37,
     "metadata": {},
     "output_type": "execute_result"
    },
    {
     "data": {
      "image/png": "[encoded data removed]",
      "text/plain": [
       "<matplotlib.figure.Figure at 0x7f821a5c0750>"
      ]
     },
     "metadata": {},
     "output_type": "display_data"
    }
   ],
   "source": [
    "sns.boxplot(x='weather',y='registered',data=train)"
   ]
  },
  {
   "cell_type": "code",
   "execution_count": 38,
   "metadata": {},
   "outputs": [
    {
     "data": {
      "text/plain": [
       "<matplotlib.axes._subplots.AxesSubplot at 0x7f821a0d7f90>"
      ]
     },
     "execution_count": 38,
     "metadata": {},
     "output_type": "execute_result"
    },
    {
     "data": {
      "image/png": "[encoded data removed]",
      "text/plain": [
       "<matplotlib.figure.Figure at 0x7f8219f96610>"
      ]
     },
     "metadata": {},
     "output_type": "display_data"
    }
   ],
   "source": [
    "#find the correlation\n",
    "corr=train_new.corr()\n",
    "sns.heatmap(corr)"
   ]
  },
  {
   "cell_type": "code",
   "execution_count": 39,
   "metadata": {},
   "outputs": [
    {
     "data": {
      "text/plain": [
       "<seaborn.axisgrid.JointGrid at 0x7f8219e0d790>"
      ]
     },
     "execution_count": 39,
     "metadata": {},
     "output_type": "execute_result"
    },
    {
     "data": {
      "image/png": "[encoded data removed]",
      "text/plain": [
       "<matplotlib.figure.Figure at 0x7f8219e0d7d0>"
      ]
     },
     "metadata": {},
     "output_type": "display_data"
    }
   ],
   "source": [
    "sns.jointplot(x='humidity',y='registered',data=train)"
   ]
  },
  {
   "cell_type": "code",
   "execution_count": 40,
   "metadata": {},
   "outputs": [
    {
     "data": {
      "text/plain": [
       "count         1.000000\n",
       "registered    0.970948\n",
       "casual        0.690414\n",
       "Hour          0.400601\n",
       "temp          0.394454\n",
       "atemp         0.389784\n",
       "Year          0.260403\n",
       "Month         0.166862\n",
       "season        0.163439\n",
       "windspeed     0.101369\n",
       "workingday    0.011594\n",
       "holiday      -0.005393\n",
       "weather      -0.128655\n",
       "humidity     -0.317371\n",
       "Name: count, dtype: float64"
      ]
     },
     "execution_count": 40,
     "metadata": {},
     "output_type": "execute_result"
    }
   ],
   "source": [
    "corr['count'].sort_values(ascending=False)"
   ]
  },
  {
   "cell_type": "code",
   "execution_count": 41,
   "metadata": {},
   "outputs": [
    {
     "data": {
      "text/plain": [
       "<seaborn.axisgrid.JointGrid at 0x7f8219e0d950>"
      ]
     },
     "execution_count": 41,
     "metadata": {},
     "output_type": "execute_result"
    },
    {
     "data": {
      "image/png": "[encoded data removed]",
      "text/plain": [
       "<matplotlib.figure.Figure at 0x7f8219e0ded0>"
      ]
     },
     "metadata": {},
     "output_type": "display_data"
    }
   ],
   "source": [
    "sns.jointplot(x='temp',y='count',data=train_new)"
   ]
  },
  {
   "cell_type": "code",
   "execution_count": 42,
   "metadata": {
    "collapsed": true
   },
   "outputs": [],
   "source": [
    "#Its time for some feature selection baby\n",
    "hr={0:3,1:3,2:3,3:3,4:3,5:3,6:3,7:1,8:1,9:2,10:2,11:2,12:1,13:1,14:1,15:1,16:1,17:1,18:1,19:1,20:2,21:2,22:2,23:3}\n",
    "\n",
    "alldata['Hour_bin']=alldata['Hour'].map(hr)"
   ]
  },
  {
   "cell_type": "code",
   "execution_count": 43,
   "metadata": {},
   "outputs": [
    {
     "data": {
      "text/plain": [
       "1    7285\n",
       "3    5729\n",
       "2    4365\n",
       "Name: Hour_bin, dtype: int64"
      ]
     },
     "execution_count": 43,
     "metadata": {},
     "output_type": "execute_result"
    }
   ],
   "source": [
    "alldata['Hour_bin'].value_counts()"
   ]
  },
  {
   "cell_type": "code",
   "execution_count": 44,
   "metadata": {},
   "outputs": [
    {
     "data": {
      "text/plain": [
       "0    10094\n",
       "1     7285\n",
       "Name: IsHourGood, dtype: int64"
      ]
     },
     "execution_count": 44,
     "metadata": {},
     "output_type": "execute_result"
    }
   ],
   "source": [
    "alldata['IsHourGood']=(alldata['Hour_bin']==1)*1\n",
    "alldata['IsHourGood'].value_counts()"
   ]
  },
  {
   "cell_type": "code",
   "execution_count": 45,
   "metadata": {
    "collapsed": true
   },
   "outputs": [],
   "source": [
    "#Now it time for Temperature\n",
    "bins=[-10,0,10,15,30,50]\n",
    "groups=[0,1,2,3,4]\n",
    "cate=pd.cut(alldata.temp,bins,labels=groups)\n",
    "alldata.temp=cate"
   ]
  },
  {
   "cell_type": "code",
   "execution_count": 46,
   "metadata": {
    "collapsed": true
   },
   "outputs": [],
   "source": [
    "alldata['cas_good_temp']=(alldata['temp']==3)*1\n",
    "alldata['reg_good_temp']=((alldata['temp']==3)|(alldata['temp']==2))*1"
   ]
  },
  {
   "cell_type": "code",
   "execution_count": 47,
   "metadata": {},
   "outputs": [
    {
     "data": {
      "text/plain": [
       "1    13251\n",
       "0     4128\n",
       "Name: reg_good_temp, dtype: int64"
      ]
     },
     "execution_count": 47,
     "metadata": {},
     "output_type": "execute_result"
    }
   ],
   "source": [
    "alldata['reg_good_temp'].value_counts()"
   ]
  },
  {
   "cell_type": "code",
   "execution_count": 48,
   "metadata": {
    "collapsed": true
   },
   "outputs": [],
   "source": [
    "#Now it time for atemp\n",
    "bins=[-10,0,10,15,30,50]\n",
    "groups=[0,1,2,3,4]\n",
    "cate=pd.cut(alldata.atemp,bins,labels=groups)\n",
    "alldata.atemp=cate"
   ]
  },
  {
   "cell_type": "code",
   "execution_count": 49,
   "metadata": {
    "collapsed": true
   },
   "outputs": [],
   "source": [
    "alldata['cas_good_atemp']=(alldata['atemp']==3)*1\n",
    "alldata['reg_good_atemp']=((alldata['atemp']==3)|(alldata['atemp']==2))*1"
   ]
  },
  {
   "cell_type": "code",
   "execution_count": 50,
   "metadata": {},
   "outputs": [
    {
     "data": {
      "text/plain": [
       "1    8894\n",
       "0    8485\n",
       "Name: cas_good_atemp, dtype: int64"
      ]
     },
     "execution_count": 50,
     "metadata": {},
     "output_type": "execute_result"
    }
   ],
   "source": [
    "alldata['cas_good_atemp'].value_counts()"
   ]
  },
  {
   "cell_type": "code",
   "execution_count": 51,
   "metadata": {
    "collapsed": true
   },
   "outputs": [],
   "source": [
    "#Timeforseason\n",
    "alldata['Seasn_good_reg']=((alldata['season']==2)|(alldata['season']==3)|(alldata['season']==4))*1\n",
    "alldata['Seasn_good_cas']=((alldata['season']==2)|(alldata['season']==3))*1"
   ]
  },
  {
   "cell_type": "code",
   "execution_count": 52,
   "metadata": {},
   "outputs": [
    {
     "data": {
      "text/plain": [
       "1    13137\n",
       "0     4242\n",
       "Name: Seasn_good_reg, dtype: int64"
      ]
     },
     "execution_count": 52,
     "metadata": {},
     "output_type": "execute_result"
    }
   ],
   "source": [
    "alldata['Seasn_good_reg'].value_counts()"
   ]
  },
  {
   "cell_type": "code",
   "execution_count": 53,
   "metadata": {},
   "outputs": [
    {
     "data": {
      "text/plain": [
       "1    15957\n",
       "0     1422\n",
       "Name: IsWeatherGood, dtype: int64"
      ]
     },
     "execution_count": 53,
     "metadata": {},
     "output_type": "execute_result"
    }
   ],
   "source": [
    "#Timeforweather\n",
    "alldata['IsWeatherGood']=((alldata['weather']==1)|(alldata['weather']==2))*1\n",
    "alldata['IsWeatherGood'].value_counts()"
   ]
  },
  {
   "cell_type": "code",
   "execution_count": 54,
   "metadata": {},
   "outputs": [
    {
     "data": {
      "text/plain": [
       "0       2012\n",
       "1       2012\n",
       "2       2012\n",
       "3       2012\n",
       "4       2012\n",
       "5       2012\n",
       "6       2012\n",
       "7       2012\n",
       "8       2012\n",
       "9       2012\n",
       "10      2012\n",
       "11      2012\n",
       "12      2012\n",
       "13      2012\n",
       "14      2012\n",
       "15      2012\n",
       "16      2012\n",
       "17      2012\n",
       "18      2012\n",
       "19      2012\n",
       "20      2012\n",
       "21      2012\n",
       "22      2012\n",
       "23      2012\n",
       "24      2012\n",
       "25      2012\n",
       "26      2012\n",
       "27      2012\n",
       "28      2012\n",
       "29      2012\n",
       "        ... \n",
       "6463    2024\n",
       "6464    2024\n",
       "6465    2024\n",
       "6466    2024\n",
       "6467    2024\n",
       "6468    2024\n",
       "6469    2024\n",
       "6470    2024\n",
       "6471    2024\n",
       "6472    2024\n",
       "6473    2024\n",
       "6474    2024\n",
       "6475    2024\n",
       "6476    2024\n",
       "6477    2024\n",
       "6478    2024\n",
       "6479    2024\n",
       "6480    2024\n",
       "6481    2024\n",
       "6482    2024\n",
       "6483    2024\n",
       "6484    2024\n",
       "6485    2024\n",
       "6486    2024\n",
       "6487    2024\n",
       "6488    2024\n",
       "6489    2024\n",
       "6490    2024\n",
       "6491    2024\n",
       "6492    2024\n",
       "Length: 17379, dtype: int64"
      ]
     },
     "execution_count": 54,
     "metadata": {},
     "output_type": "execute_result"
    }
   ],
   "source": [
    "def f(x):    \n",
    "    return x[0] + x[1] \n",
    "alldata2=alldata[['Year','Month']]\n",
    "alldata2.apply(f,axis=1)"
   ]
  },
  {
   "cell_type": "code",
   "execution_count": 55,
   "metadata": {
    "collapsed": true
   },
   "outputs": [],
   "source": [
    "def mal(x):\n",
    "        if (((x[0]==2011) & (x[1]==1))|((x[0]==2011) & (x[1]==2))|((x[0]==2011) & (x[1]==3))):\n",
    "             l=1\n",
    "        elif (((x[0]==2011) & (x[1]==4))|((x[0]==2011) & (x[1]==5))|((x[0]==2011) & (x[1]==6))):\n",
    "             l=2\n",
    "        elif (((x[0]==2011) & (x[1]==7))|((x[0]==2011) & (x[1]==8))|((x[0]==2011) & (x[1]==9))):\n",
    "            l=3\n",
    "        elif (((x[0]==2011) & (x[1]==10))|((x[0]==2011) & (x[1]==11))|((x[0]==2011) & (x[1]==12))):\n",
    "            l=4\n",
    "        elif (((x[0]==2012) & (x[1]==1))|((x[0]==2012) & (x[1]==2))|((x[0]==2012) & (x[1]==3))):\n",
    "             l=5\n",
    "        elif (((x[0]==2012) & (x[1]==4))|((x[0]==2012) & (x[1]==5))|((x[0]==2012) & (x[1]==6))):\n",
    "             l=6\n",
    "        elif (((x[0]==2012) & (x[1]==7))|((x[0]==2012) & (x[1]==8))|((x[0]==2012) & (x[1]==9))):\n",
    "            l=7\n",
    "        else:\n",
    "            l=8\n",
    "           \n",
    "          \n",
    "        return l"
   ]
  },
  {
   "cell_type": "code",
   "execution_count": 56,
   "metadata": {
    "collapsed": true
   },
   "outputs": [],
   "source": [
    "alldata2=alldata[['Year','Month']]\n",
    "alldata['year_part']=alldata2.apply(mal,axis=1)"
   ]
  },
  {
   "cell_type": "code",
   "execution_count": 57,
   "metadata": {},
   "outputs": [
    {
     "data": {
      "text/plain": [
       "<seaborn.axisgrid.JointGrid at 0x7f82196c8a50>"
      ]
     },
     "execution_count": 57,
     "metadata": {},
     "output_type": "execute_result"
    },
    {
     "data": {
      "image/png": "[encoded data removed]",
      "text/plain": [
       "<matplotlib.figure.Figure at 0x7f82196c8f90>"
      ]
     },
     "metadata": {},
     "output_type": "display_data"
    }
   ],
   "source": [
    "sns.jointplot(x='year_part',y='registered',data=alldata)"
   ]
  },
  {
   "cell_type": "code",
   "execution_count": 71,
   "metadata": {},
   "outputs": [
    {
     "data": {
      "text/plain": [
       "<seaborn.axisgrid.JointGrid at 0x7f82183f7a90>"
      ]
     },
     "execution_count": 71,
     "metadata": {},
     "output_type": "execute_result"
    },
    {
     "data": {
      "image/png": "[encoded data removed]",
      "text/plain": [
       "<matplotlib.figure.Figure at 0x7f82183f79d0>"
      ]
     },
     "metadata": {},
     "output_type": "display_data"
    }
   ],
   "source": [
    "sns.jointplot(x='year_part',y='casual',data=alldata)"
   ]
  },
  {
   "cell_type": "code",
   "execution_count": 77,
   "metadata": {},
   "outputs": [
    {
     "data": {
      "text/plain": [
       "<matplotlib.axes._subplots.AxesSubplot at 0x7f820beafb10>"
      ]
     },
     "execution_count": 77,
     "metadata": {},
     "output_type": "execute_result"
    },
    {
     "data": {
      "image/png": "[encoded data removed]",
      "text/plain": [
       "<matplotlib.figure.Figure at 0x7f82187c4050>"
      ]
     },
     "metadata": {},
     "output_type": "display_data"
    }
   ],
   "source": [
    "sns.boxplot(x='year_part',y='registered',data=alldata)"
   ]
  },
  {
   "cell_type": "code",
   "execution_count": 72,
   "metadata": {},
   "outputs": [
    {
     "data": {
      "text/plain": [
       "<matplotlib.axes._subplots.AxesSubplot at 0x7f8218214590>"
      ]
     },
     "execution_count": 72,
     "metadata": {},
     "output_type": "execute_result"
    },
    {
     "data": {
      "image/png": "[encoded data removed]",
      "text/plain": [
       "<matplotlib.figure.Figure at 0x7f82184fb950>"
      ]
     },
     "metadata": {},
     "output_type": "display_data"
    }
   ],
   "source": [
    "sns.boxplot(x='year_part',y='casual',data=alldata)"
   ]
  },
  {
   "cell_type": "code",
   "execution_count": 73,
   "metadata": {
    "collapsed": true
   },
   "outputs": [],
   "source": [
    "alldata['Good_Tym_of_year_reg']=(alldata['year_part']>=6)*1"
   ]
  },
  {
   "cell_type": "code",
   "execution_count": 74,
   "metadata": {
    "collapsed": true
   },
   "outputs": [],
   "source": [
    "alldata['Good_Tym_of_year_cas']=((alldata['year_part']==6)|(alldata['year_part']==7))*1"
   ]
  },
  {
   "cell_type": "code",
   "execution_count": 76,
   "metadata": {},
   "outputs": [
    {
     "data": {
      "text/plain": [
       "0    12989\n",
       "1     4390\n",
       "Name: Good_Tym_of_year_cas, dtype: int64"
      ]
     },
     "execution_count": 76,
     "metadata": {},
     "output_type": "execute_result"
    }
   ],
   "source": [
    "alldata['Good_Tym_of_year_cas'].value_counts()"
   ]
  },
  {
   "cell_type": "code",
   "execution_count": 59,
   "metadata": {},
   "outputs": [
    {
     "data": {
      "text/plain": [
       "<seaborn.axisgrid.JointGrid at 0x7f821944e350>"
      ]
     },
     "execution_count": 59,
     "metadata": {},
     "output_type": "execute_result"
    },
    {
     "data": {
      "image/png": "[encoded data removed]",
      "text/plain": [
       "<matplotlib.figure.Figure at 0x7f821944e9d0>"
      ]
     },
     "metadata": {},
     "output_type": "display_data"
    }
   ],
   "source": [
    "sns.jointplot(x='holiday',y='registered',data=train)"
   ]
  },
  {
   "cell_type": "code",
   "execution_count": 60,
   "metadata": {},
   "outputs": [
    {
     "data": {
      "text/plain": [
       "<seaborn.axisgrid.JointGrid at 0x7f8219385410>"
      ]
     },
     "execution_count": 60,
     "metadata": {},
     "output_type": "execute_result"
    },
    {
     "data": {
      "image/png": "[encoded data removed]",
      "text/plain": [
       "<matplotlib.figure.Figure at 0x7f8219385310>"
      ]
     },
     "metadata": {},
     "output_type": "display_data"
    }
   ],
   "source": [
    "sns.jointplot(x='holiday',y='casual',data=train)"
   ]
  },
  {
   "cell_type": "code",
   "execution_count": 61,
   "metadata": {},
   "outputs": [
    {
     "data": {
      "text/plain": [
       "<seaborn.axisgrid.JointGrid at 0x7f8219063a90>"
      ]
     },
     "execution_count": 61,
     "metadata": {},
     "output_type": "execute_result"
    },
    {
     "data": {
      "image/png": "[encoded data removed]",
      "text/plain": [
       "<matplotlib.figure.Figure at 0x7f82194dfdd0>"
      ]
     },
     "metadata": {},
     "output_type": "display_data"
    }
   ],
   "source": [
    "sns.jointplot(x='workingday',y='registered',data=train)"
   ]
  },
  {
   "cell_type": "code",
   "execution_count": 62,
   "metadata": {},
   "outputs": [
    {
     "data": {
      "text/plain": [
       "<seaborn.axisgrid.JointGrid at 0x7f8218c9a410>"
      ]
     },
     "execution_count": 62,
     "metadata": {},
     "output_type": "execute_result"
    },
    {
     "data": {
      "image/png": "[encoded data removed]",
      "text/plain": [
       "<matplotlib.figure.Figure at 0x7f82187a8590>"
      ]
     },
     "metadata": {},
     "output_type": "display_data"
    }
   ],
   "source": [
    "sns.jointplot(x='workingday',y='casual',data=train)"
   ]
  },
  {
   "cell_type": "code",
   "execution_count": 63,
   "metadata": {
    "collapsed": true
   },
   "outputs": [],
   "source": [
    "def f(x):\n",
    "    if (x[0]==0|x[[1]==1]):\n",
    "        return 1\n",
    "    else:\n",
    "        return 0\n",
    "\n",
    "def f1(x):\n",
    "    if (x[0]==0|x[[1]==0]):\n",
    "        return 1\n",
    "    else:\n",
    "        return 0\n",
    "\n",
    "        "
   ]
  },
  {
   "cell_type": "code",
   "execution_count": 64,
   "metadata": {
    "collapsed": true
   },
   "outputs": [],
   "source": [
    "alldata1=alldata[['holiday','workingday']]\n",
    "alldata['Iscylday_reg']=alldata2.apply(f,axis=1)\n",
    "alldata['Iscylday_cas']=alldata2.apply(f1,axis=1)"
   ]
  },
  {
   "cell_type": "code",
   "execution_count": 84,
   "metadata": {},
   "outputs": [
    {
     "data": {
      "text/html": [
       "<div>\n",
       "<style>\n",
       "    .dataframe thead tr:only-child th {\n",
       "        text-align: right;\n",
       "    }\n",
       "\n",
       "    .dataframe thead th {\n",
       "        text-align: left;\n",
       "    }\n",
       "\n",
       "    .dataframe tbody tr th {\n",
       "        vertical-align: top;\n",
       "    }\n",
       "</style>\n",
       "<table border=\"1\" class=\"dataframe\">\n",
       "  <thead>\n",
       "    <tr style=\"text-align: right;\">\n",
       "      <th></th>\n",
       "      <th>atemp</th>\n",
       "      <th>casual</th>\n",
       "      <th>count</th>\n",
       "      <th>holiday</th>\n",
       "      <th>humidity</th>\n",
       "      <th>registered</th>\n",
       "      <th>season</th>\n",
       "      <th>temp</th>\n",
       "      <th>weather</th>\n",
       "      <th>windspeed</th>\n",
       "      <th>...</th>\n",
       "      <th>cas_good_atemp</th>\n",
       "      <th>reg_good_atemp</th>\n",
       "      <th>Seasn_good_reg</th>\n",
       "      <th>Seasn_good_cas</th>\n",
       "      <th>IsWeatherGood</th>\n",
       "      <th>year_part</th>\n",
       "      <th>Iscylday_reg</th>\n",
       "      <th>Iscylday_cas</th>\n",
       "      <th>Good_Tym_of_year_reg</th>\n",
       "      <th>Good_Tym_of_year_cas</th>\n",
       "    </tr>\n",
       "  </thead>\n",
       "  <tbody>\n",
       "    <tr>\n",
       "      <th>0</th>\n",
       "      <td>2</td>\n",
       "      <td>3.0</td>\n",
       "      <td>16.0</td>\n",
       "      <td>0</td>\n",
       "      <td>81</td>\n",
       "      <td>13.0</td>\n",
       "      <td>1</td>\n",
       "      <td>1</td>\n",
       "      <td>1</td>\n",
       "      <td>0.0</td>\n",
       "      <td>...</td>\n",
       "      <td>0</td>\n",
       "      <td>1</td>\n",
       "      <td>0</td>\n",
       "      <td>0</td>\n",
       "      <td>1</td>\n",
       "      <td>1</td>\n",
       "      <td>1</td>\n",
       "      <td>1</td>\n",
       "      <td>0</td>\n",
       "      <td>0</td>\n",
       "    </tr>\n",
       "    <tr>\n",
       "      <th>1</th>\n",
       "      <td>2</td>\n",
       "      <td>8.0</td>\n",
       "      <td>40.0</td>\n",
       "      <td>0</td>\n",
       "      <td>80</td>\n",
       "      <td>32.0</td>\n",
       "      <td>1</td>\n",
       "      <td>1</td>\n",
       "      <td>1</td>\n",
       "      <td>0.0</td>\n",
       "      <td>...</td>\n",
       "      <td>0</td>\n",
       "      <td>1</td>\n",
       "      <td>0</td>\n",
       "      <td>0</td>\n",
       "      <td>1</td>\n",
       "      <td>1</td>\n",
       "      <td>1</td>\n",
       "      <td>1</td>\n",
       "      <td>0</td>\n",
       "      <td>0</td>\n",
       "    </tr>\n",
       "    <tr>\n",
       "      <th>2</th>\n",
       "      <td>2</td>\n",
       "      <td>5.0</td>\n",
       "      <td>32.0</td>\n",
       "      <td>0</td>\n",
       "      <td>80</td>\n",
       "      <td>27.0</td>\n",
       "      <td>1</td>\n",
       "      <td>1</td>\n",
       "      <td>1</td>\n",
       "      <td>0.0</td>\n",
       "      <td>...</td>\n",
       "      <td>0</td>\n",
       "      <td>1</td>\n",
       "      <td>0</td>\n",
       "      <td>0</td>\n",
       "      <td>1</td>\n",
       "      <td>1</td>\n",
       "      <td>1</td>\n",
       "      <td>1</td>\n",
       "      <td>0</td>\n",
       "      <td>0</td>\n",
       "    </tr>\n",
       "    <tr>\n",
       "      <th>3</th>\n",
       "      <td>2</td>\n",
       "      <td>3.0</td>\n",
       "      <td>13.0</td>\n",
       "      <td>0</td>\n",
       "      <td>75</td>\n",
       "      <td>10.0</td>\n",
       "      <td>1</td>\n",
       "      <td>1</td>\n",
       "      <td>1</td>\n",
       "      <td>0.0</td>\n",
       "      <td>...</td>\n",
       "      <td>0</td>\n",
       "      <td>1</td>\n",
       "      <td>0</td>\n",
       "      <td>0</td>\n",
       "      <td>1</td>\n",
       "      <td>1</td>\n",
       "      <td>1</td>\n",
       "      <td>1</td>\n",
       "      <td>0</td>\n",
       "      <td>0</td>\n",
       "    </tr>\n",
       "    <tr>\n",
       "      <th>4</th>\n",
       "      <td>2</td>\n",
       "      <td>0.0</td>\n",
       "      <td>1.0</td>\n",
       "      <td>0</td>\n",
       "      <td>75</td>\n",
       "      <td>1.0</td>\n",
       "      <td>1</td>\n",
       "      <td>1</td>\n",
       "      <td>1</td>\n",
       "      <td>0.0</td>\n",
       "      <td>...</td>\n",
       "      <td>0</td>\n",
       "      <td>1</td>\n",
       "      <td>0</td>\n",
       "      <td>0</td>\n",
       "      <td>1</td>\n",
       "      <td>1</td>\n",
       "      <td>1</td>\n",
       "      <td>1</td>\n",
       "      <td>0</td>\n",
       "      <td>0</td>\n",
       "    </tr>\n",
       "  </tbody>\n",
       "</table>\n",
       "<p>5 rows × 27 columns</p>\n",
       "</div>"
      ],
      "text/plain": [
       "  atemp  casual  count  holiday  humidity  registered  season temp  weather  \\\n",
       "0     2     3.0   16.0        0        81        13.0       1    1        1   \n",
       "1     2     8.0   40.0        0        80        32.0       1    1        1   \n",
       "2     2     5.0   32.0        0        80        27.0       1    1        1   \n",
       "3     2     3.0   13.0        0        75        10.0       1    1        1   \n",
       "4     2     0.0    1.0        0        75         1.0       1    1        1   \n",
       "\n",
       "   windspeed          ...           cas_good_atemp  reg_good_atemp  \\\n",
       "0        0.0          ...                        0               1   \n",
       "1        0.0          ...                        0               1   \n",
       "2        0.0          ...                        0               1   \n",
       "3        0.0          ...                        0               1   \n",
       "4        0.0          ...                        0               1   \n",
       "\n",
       "   Seasn_good_reg  Seasn_good_cas  IsWeatherGood  year_part  Iscylday_reg  \\\n",
       "0               0               0              1          1             1   \n",
       "1               0               0              1          1             1   \n",
       "2               0               0              1          1             1   \n",
       "3               0               0              1          1             1   \n",
       "4               0               0              1          1             1   \n",
       "\n",
       "   Iscylday_cas  Good_Tym_of_year_reg  Good_Tym_of_year_cas  \n",
       "0             1                     0                     0  \n",
       "1             1                     0                     0  \n",
       "2             1                     0                     0  \n",
       "3             1                     0                     0  \n",
       "4             1                     0                     0  \n",
       "\n",
       "[5 rows x 27 columns]"
      ]
     },
     "execution_count": 84,
     "metadata": {},
     "output_type": "execute_result"
    }
   ],
   "source": [
    "alldata.head()"
   ]
  },
  {
   "cell_type": "code",
   "execution_count": 83,
   "metadata": {
    "scrolled": true
   },
   "outputs": [
    {
     "name": "stdout",
     "output_type": "stream",
     "text": [
      "<class 'pandas.core.frame.DataFrame'>\n",
      "Int64Index: 17379 entries, 0 to 6492\n",
      "Data columns (total 27 columns):\n",
      "atemp                   17379 non-null category\n",
      "casual                  10886 non-null float64\n",
      "count                   10886 non-null float64\n",
      "holiday                 17379 non-null int64\n",
      "humidity                17379 non-null int64\n",
      "registered              10886 non-null float64\n",
      "season                  17379 non-null int64\n",
      "temp                    17379 non-null category\n",
      "weather                 17379 non-null int64\n",
      "windspeed               17379 non-null float64\n",
      "workingday              17379 non-null int64\n",
      "Month                   17379 non-null int64\n",
      "Hour                    17379 non-null int64\n",
      "Hour_bin                17379 non-null int64\n",
      "IsHourGood              17379 non-null int64\n",
      "cas_good_temp           17379 non-null int64\n",
      "reg_good_temp           17379 non-null int64\n",
      "cas_good_atemp          17379 non-null int64\n",
      "reg_good_atemp          17379 non-null int64\n",
      "Seasn_good_reg          17379 non-null int64\n",
      "Seasn_good_cas          17379 non-null int64\n",
      "IsWeatherGood           17379 non-null int64\n",
      "year_part               17379 non-null int64\n",
      "Iscylday_reg            17379 non-null int64\n",
      "Iscylday_cas            17379 non-null int64\n",
      "Good_Tym_of_year_reg    17379 non-null int64\n",
      "Good_Tym_of_year_cas    17379 non-null int64\n",
      "dtypes: category(2), float64(4), int64(21)\n",
      "memory usage: 4.1 MB\n"
     ]
    }
   ],
   "source": [
    "alldata.info()"
   ]
  },
  {
   "cell_type": "code",
   "execution_count": 82,
   "metadata": {
    "collapsed": true
   },
   "outputs": [],
   "source": [
    "alldata=alldata.drop(['datetime','Year','Good_Tym_of_year'],axis=1)"
   ]
  },
  {
   "cell_type": "code",
   "execution_count": 90,
   "metadata": {
    "collapsed": true
   },
   "outputs": [],
   "source": [
    "train_new=alldata[alldata['count'].notnull()]\n",
    "test_new=alldata[alldata['count'].isnull()]"
   ]
  },
  {
   "cell_type": "code",
   "execution_count": 92,
   "metadata": {},
   "outputs": [
    {
     "data": {
      "text/plain": [
       "(10886, 27)"
      ]
     },
     "execution_count": 92,
     "metadata": {},
     "output_type": "execute_result"
    }
   ],
   "source": [
    "train_new.shape"
   ]
  },
  {
   "cell_type": "code",
   "execution_count": 95,
   "metadata": {
    "collapsed": true
   },
   "outputs": [],
   "source": [
    "test_new=test_new.drop(['registered','casual','count'],axis=1)"
   ]
  },
  {
   "cell_type": "code",
   "execution_count": 96,
   "metadata": {},
   "outputs": [
    {
     "data": {
      "text/plain": [
       "(6493, 24)"
      ]
     },
     "execution_count": 96,
     "metadata": {},
     "output_type": "execute_result"
    }
   ],
   "source": [
    "test_new.shape"
   ]
  },
  {
   "cell_type": "code",
   "execution_count": 102,
   "metadata": {},
   "outputs": [
    {
     "name": "stdout",
     "output_type": "stream",
     "text": [
      "1.52480458682\n",
      "-0.855561756537\n"
     ]
    }
   ],
   "source": [
    "#log transfer target variable\n",
    "print train_new['registered'].skew()\n",
    "target1=np.log(train_new['registered']+1)\n",
    "print target1.skew()"
   ]
  },
  {
   "cell_type": "code",
   "execution_count": 103,
   "metadata": {},
   "outputs": [
    {
     "name": "stdout",
     "output_type": "stream",
     "text": [
      "2.49574839798\n",
      "-0.224722528924\n"
     ]
    }
   ],
   "source": [
    "print train_new['casual'].skew()\n",
    "target2=np.log(train_new['casual']+1)\n",
    "print target2.skew()"
   ]
  },
  {
   "cell_type": "code",
   "execution_count": 104,
   "metadata": {
    "collapsed": true
   },
   "outputs": [],
   "source": [
    "train_val=train_new.drop(['registered','casual','count'],axis=1)"
   ]
  },
  {
   "cell_type": "code",
   "execution_count": 106,
   "metadata": {
    "collapsed": true
   },
   "outputs": [],
   "source": [
    "train_reg=train_val.copy()"
   ]
  },
  {
   "cell_type": "code",
   "execution_count": 140,
   "metadata": {
    "collapsed": true
   },
   "outputs": [],
   "source": [
    "feat=['Good_Tym_of_year_cas','Iscylday_cas','Seasn_good_cas','cas_good_atemp','cas_good_temp']\n",
    "train_reg=train_reg.drop(feat,axis=1)\n",
    "test_reg=test_new.drop(feat,axis=1)"
   ]
  },
  {
   "cell_type": "code",
   "execution_count": 142,
   "metadata": {},
   "outputs": [
    {
     "data": {
      "text/plain": [
       "(6493, 19)"
      ]
     },
     "execution_count": 142,
     "metadata": {},
     "output_type": "execute_result"
    }
   ],
   "source": [
    "test_reg.shape"
   ]
  },
  {
   "cell_type": "code",
   "execution_count": 141,
   "metadata": {
    "collapsed": true
   },
   "outputs": [],
   "source": [
    "feat2=['Good_Tym_of_year_reg','Iscylday_reg','Seasn_good_reg','reg_good_atemp','reg_good_temp']\n",
    "train_cas=train_val.drop(feat,axis=1)\n",
    "test_cas=test_new.drop(feat2,axis=1)"
   ]
  },
  {
   "cell_type": "code",
   "execution_count": 143,
   "metadata": {},
   "outputs": [
    {
     "data": {
      "text/plain": [
       "(6493, 19)"
      ]
     },
     "execution_count": 143,
     "metadata": {},
     "output_type": "execute_result"
    }
   ],
   "source": [
    "test_cas.shape"
   ]
  },
  {
   "cell_type": "code",
   "execution_count": 113,
   "metadata": {},
   "outputs": [
    {
     "data": {
      "text/plain": [
       "(10886, 19)"
      ]
     },
     "execution_count": 113,
     "metadata": {},
     "output_type": "execute_result"
    }
   ],
   "source": [
    "train_cas.shape"
   ]
  },
  {
   "cell_type": "code",
   "execution_count": 114,
   "metadata": {},
   "outputs": [
    {
     "data": {
      "text/plain": [
       "(10886, 19)"
      ]
     },
     "execution_count": 114,
     "metadata": {},
     "output_type": "execute_result"
    }
   ],
   "source": [
    "train_reg.shape"
   ]
  },
  {
   "cell_type": "code",
   "execution_count": 120,
   "metadata": {
    "collapsed": true
   },
   "outputs": [],
   "source": [
    "#time to train the model\n",
    "from sklearn.linear_model import Lasso\n",
    "from sklearn.ensemble import GradientBoostingRegressor\n",
    "from sklearn.metrics import mean_squared_error as ms\n",
    "from sklearn.model_selection import KFold"
   ]
  },
  {
   "cell_type": "code",
   "execution_count": 116,
   "metadata": {
    "collapsed": true
   },
   "outputs": [],
   "source": [
    "x1=np.array(train_reg)\n",
    "x1=np.array(train_cas)\n"
   ]
  },
  {
   "cell_type": "code",
   "execution_count": 125,
   "metadata": {},
   "outputs": [
    {
     "name": "stdout",
     "output_type": "stream",
     "text": [
      "1.07441759365\n",
      "0.701470831849\n",
      "0.674032503337\n",
      "0.639432457564\n",
      "0.688996727473\n",
      "0.803264212577\n",
      "0.75415754684\n",
      "0.649569787963\n",
      "0.634985403346\n",
      "0.691197119033\n",
      "Mean Accuracy 0.731152418363\n"
     ]
    }
   ],
   "source": [
    "#Lasso For registered\n",
    "clf1=Lasso(alpha=0.1)\n",
    "kf=KFold(n_splits=10)\n",
    "outcomes=[]\n",
    "for train_index,test_index in kf.split(x1):\n",
    "        x_train,x_test=train_reg.values[train_index],train_reg.values[test_index]\n",
    "        y_train,y_test=target1.values[train_index],target1.values[test_index]\n",
    "        clf1.fit(x_train,y_train)\n",
    "        y_pred=clf1.predict(x_test)\n",
    "        accuracy=ms(y_test,y_pred)\n",
    "        print accuracy\n",
    "        outcomes.append(accuracy)\n",
    "mean=np.mean(outcomes)\n",
    "print 'Mean Accuracy',mean"
   ]
  },
  {
   "cell_type": "code",
   "execution_count": 126,
   "metadata": {},
   "outputs": [
    {
     "name": "stdout",
     "output_type": "stream",
     "text": [
      "1.05162879465\n",
      "0.839500433585\n",
      "0.601048966316\n",
      "0.679115326642\n",
      "0.832999920767\n",
      "0.945357861129\n",
      "0.991926473584\n",
      "0.69459004375\n",
      "0.693301470742\n",
      "0.712286178147\n",
      "Mean Accuracy 0.804175546932\n"
     ]
    }
   ],
   "source": [
    "#Lasso For casual\n",
    "clf2=Lasso(alpha=0.1)\n",
    "kf=KFold(n_splits=10)\n",
    "outcomes=[]\n",
    "for train_index,test_index in kf.split(x1):\n",
    "        x_train,x_test=train_cas.values[train_index],train_cas.values[test_index]\n",
    "        y_train,y_test=target2.values[train_index],target2.values[test_index]\n",
    "        clf2.fit(x_train,y_train)\n",
    "        y_pred=clf2.predict(x_test)\n",
    "        accuracy=ms(y_test,y_pred)\n",
    "        print accuracy\n",
    "        outcomes.append(accuracy)\n",
    "mean=np.mean(outcomes)\n",
    "print 'Mean Accuracy',mean"
   ]
  },
  {
   "cell_type": "code",
   "execution_count": 137,
   "metadata": {},
   "outputs": [
    {
     "name": "stdout",
     "output_type": "stream",
     "text": [
      "0.223878004434\n",
      "0.260758122172\n",
      "0.12114455141\n",
      "0.141956946347\n",
      "0.152354385006\n",
      "0.167190735288\n",
      "0.163898757136\n",
      "0.11568858365\n",
      "0.128399864488\n",
      "0.129213062783\n",
      "Mean Accuracy 0.160448301272\n"
     ]
    }
   ],
   "source": [
    "#GradientBoost For registered\n",
    "clf1=GradientBoostingRegressor(learning_rate=0.1,alpha=0.1)\n",
    "kf=KFold(n_splits=10)\n",
    "outcomes=[]\n",
    "for train_index,test_index in kf.split(x1):\n",
    "        x_train,x_test=train_reg.values[train_index],train_reg.values[test_index]\n",
    "        y_train,y_test=target1.values[train_index],target1.values[test_index]\n",
    "        clf1.fit(x_train,y_train)\n",
    "        y_pred=clf1.predict(x_test)\n",
    "        accuracy=ms(y_test,y_pred)\n",
    "        print accuracy\n",
    "        outcomes.append(accuracy)\n",
    "mean=np.mean(outcomes)\n",
    "print 'Mean Accuracy',mean"
   ]
  },
  {
   "cell_type": "code",
   "execution_count": 146,
   "metadata": {
    "collapsed": true
   },
   "outputs": [],
   "source": [
    "reg=clf1.predict(test_reg)\n",
    "reg1=np.exp(reg)-1"
   ]
  },
  {
   "cell_type": "code",
   "execution_count": 147,
   "metadata": {},
   "outputs": [
    {
     "name": "stdout",
     "output_type": "stream",
     "text": [
      "0.544661135634\n",
      "0.481909756368\n",
      "0.243320689282\n",
      "0.245516658132\n",
      "0.346669152119\n",
      "0.460627856573\n",
      "0.398440732144\n",
      "0.228897695291\n",
      "0.245922661904\n",
      "0.302708474272\n",
      "Mean Accuracy 0.349867481172\n"
     ]
    }
   ],
   "source": [
    "#GradientBoost For casual\n",
    "clf2=GradientBoostingRegressor(learning_rate=0.4,alpha=0.1)\n",
    "kf=KFold(n_splits=10)\n",
    "outcomes=[]\n",
    "for train_index,test_index in kf.split(x1):\n",
    "        x_train,x_test=train_cas.values[train_index],train_cas.values[test_index]\n",
    "        y_train,y_test=target2.values[train_index],target2.values[test_index]\n",
    "        clf2.fit(x_train,y_train)\n",
    "        y_pred=clf2.predict(x_test)\n",
    "        accuracy=ms(y_test,y_pred)\n",
    "        print accuracy\n",
    "        outcomes.append(accuracy)\n",
    "mean=np.mean(outcomes)\n",
    "print 'Mean Accuracy',mean"
   ]
  },
  {
   "cell_type": "code",
   "execution_count": 148,
   "metadata": {
    "collapsed": true
   },
   "outputs": [],
   "source": [
    "reg=clf2.predict(test_cas)\n",
    "reg2=np.exp(reg)-1"
   ]
  },
  {
   "cell_type": "code",
   "execution_count": 154,
   "metadata": {},
   "outputs": [
    {
     "data": {
      "text/plain": [
       "(6493,)"
      ]
     },
     "execution_count": 154,
     "metadata": {},
     "output_type": "execute_result"
    }
   ],
   "source": [
    "reg1.shape\n"
   ]
  },
  {
   "cell_type": "code",
   "execution_count": 150,
   "metadata": {},
   "outputs": [
    {
     "data": {
      "text/plain": [
       "(6493,)"
      ]
     },
     "execution_count": 150,
     "metadata": {},
     "output_type": "execute_result"
    }
   ],
   "source": [
    "reg2.shape"
   ]
  },
  {
   "cell_type": "code",
   "execution_count": 151,
   "metadata": {
    "collapsed": true
   },
   "outputs": [],
   "source": [
    "count=reg1+reg2"
   ]
  },
  {
   "cell_type": "code",
   "execution_count": 152,
   "metadata": {},
   "outputs": [
    {
     "data": {
      "text/plain": [
       "(6493,)"
      ]
     },
     "execution_count": 152,
     "metadata": {},
     "output_type": "execute_result"
    }
   ],
   "source": [
    "count.shape"
   ]
  },
  {
   "cell_type": "code",
   "execution_count": 159,
   "metadata": {
    "collapsed": true
   },
   "outputs": [],
   "source": [
    "ids=test['datetime']\n",
    "output = pd.DataFrame({ 'datetime' : ids, 'count': count })\n",
    "out1=pd.DataFrame(output,columns=['datetime','count'])"
   ]
  },
  {
   "cell_type": "code",
   "execution_count": 162,
   "metadata": {
    "collapsed": true
   },
   "outputs": [],
   "source": [
    "out1.to_csv('/home/abhi/Desktop/CSV/BikeShare.csv',index=False)"
   ]
  }
 ],
 "metadata": {
  "kernelspec": {
   "display_name": "Python 2",
   "language": "python",
   "name": "python2"
  },
  "language_info": {
   "codemirror_mode": {
    "name": "ipython",
    "version": 2
   },
   "file_extension": ".py",
   "mimetype": "text/x-python",
   "name": "python",
   "nbconvert_exporter": "python",
   "pygments_lexer": "ipython2",
   "version": "2.7.13"
  }
 },
 "nbformat": 4,
 "nbformat_minor": 2
}
